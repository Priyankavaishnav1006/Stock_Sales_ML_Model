{
  "nbformat": 4,
  "nbformat_minor": 0,
  "metadata": {
    "colab": {
      "provenance": [],
      "authorship_tag": "ABX9TyPpYA39Ss3RNlAHC2dvauNI",
      "include_colab_link": true
    },
    "kernelspec": {
      "name": "python3",
      "display_name": "Python 3"
    },
    "language_info": {
      "name": "python"
    }
  },
  "cells": [
    {
      "cell_type": "markdown",
      "metadata": {
        "id": "view-in-github",
        "colab_type": "text"
      },
      "source": [
        "<a href=\"https://colab.research.google.com/github/Priyankavaishnav1006/Stock_Sales_ML_Model/blob/main/Stock_sales_ML.ipynb\" target=\"_parent\"><img src=\"https://colab.research.google.com/assets/colab-badge.svg\" alt=\"Open In Colab\"/></a>"
      ]
    },
    {
      "cell_type": "code",
      "execution_count": 4,
      "metadata": {
        "colab": {
          "base_uri": "https://localhost:8080/"
        },
        "id": "mZoTUh26euuu",
        "outputId": "3b0f6330-0029-4728-9bcb-b3c6682a6df3"
      },
      "outputs": [
        {
          "output_type": "stream",
          "name": "stdout",
          "text": [
            "Drive already mounted at /content/drive; to attempt to forcibly remount, call drive.mount(\"/content/drive\", force_remount=True).\n"
          ]
        }
      ],
      "source": [
        "from google.colab import drive\n",
        "drive.mount('/content/drive')"
      ]
    },
    {
      "cell_type": "code",
      "source": [],
      "metadata": {
        "id": "hpmAUhR6Y8eG"
      },
      "execution_count": null,
      "outputs": []
    },
    {
      "cell_type": "code",
      "source": [
        "import pandas as pd\n",
        "\n",
        "file_path = '/content/drive/MyDrive/ML Data 2.csv'\n",
        "df = pd.read_csv(file_path)\n",
        "\n",
        "\n",
        "# check 1st five and last five rows\n",
        "print(df)\n",
        "\n",
        "#check columns and data type\n",
        "print(df.info())\n"
      ],
      "metadata": {
        "colab": {
          "base_uri": "https://localhost:8080/"
        },
        "id": "vldbWIEMf329",
        "outputId": "a3110c27-0493-4b47-cdf5-dd67b92ca1e5"
      },
      "execution_count": null,
      "outputs": [
        {
          "output_type": "stream",
          "name": "stdout",
          "text": [
            "          Rows No  Location ID    DealDate Currency Type  Type  Amount  \\\n",
            "0        28937647          140  04/01/2022      JMD    N     S   77000   \n",
            "1        28937648          140  04/01/2022      XCD    N     S    1000   \n",
            "2        28937649          140  04/01/2022      KRW    N     S  910000   \n",
            "3        28937650          140  04/01/2022      EUR    N     S     705   \n",
            "4        28937651          140  04/01/2022      TRY    N     S    3215   \n",
            "...           ...          ...         ...      ...  ...   ...     ...   \n",
            "8234155  46696722           38  30/04/2025      EUR    N     S     335   \n",
            "8234156  46696723           38  30/04/2025      EUR    N     B     200   \n",
            "8234157  46696724           38  30/04/2025      EUR    N     S     100   \n",
            "8234158  46696725           38  30/04/2025      JPY    N     S   27000   \n",
            "8234159  46696726          272  29/04/2025      EUR    N     S     340   \n",
            "\n",
            "          Value  OriginationID  OrderTypeID  \n",
            "0        401.68              2            2  \n",
            "1        293.17              2            2  \n",
            "2        603.05              2            2  \n",
            "3        601.54              2            2  \n",
            "4        200.15              2            2  \n",
            "...         ...            ...          ...  \n",
            "8234155  301.77              3            1  \n",
            "8234156  144.46              3            1  \n",
            "8234157   90.08              3            1  \n",
            "8234158  155.04              3            1  \n",
            "8234159  300.99             11            3  \n",
            "\n",
            "[8234160 rows x 10 columns]\n",
            "<class 'pandas.core.frame.DataFrame'>\n",
            "RangeIndex: 8234160 entries, 0 to 8234159\n",
            "Data columns (total 10 columns):\n",
            " #   Column         Dtype  \n",
            "---  ------         -----  \n",
            " 0   Rows No        int64  \n",
            " 1   Location ID    int64  \n",
            " 2   DealDate       object \n",
            " 3   Currency       object \n",
            " 4   Type           object \n",
            " 5    Type          object \n",
            " 6   Amount         int64  \n",
            " 7   Value          float64\n",
            " 8   OriginationID  int64  \n",
            " 9   OrderTypeID    int64  \n",
            "dtypes: float64(1), int64(5), object(4)\n",
            "memory usage: 628.2+ MB\n",
            "None\n"
          ]
        }
      ]
    },
    {
      "cell_type": "markdown",
      "source": [
        "# New section"
      ],
      "metadata": {
        "id": "Lb2R91jWMu2I"
      }
    },
    {
      "cell_type": "code",
      "source": [
        "import warnings\n",
        "warnings.filterwarnings(\"ignore\")   # Ignore warnings\n",
        "\n",
        "# Import libraries\n",
        "\n",
        "import pandas as pd\n",
        "import numpy as np\n",
        "import matplotlib.pyplot as plt\n",
        "import xgboost as xgb\n",
        "from sklearn.model_selection import train_test_split\n",
        "from sklearn.metrics import mean_squared_error\n",
        "from sklearn.metrics import mean_absolute_error\n",
        "from prophet import Prophet\n",
        "from sklearn.ensemble import RandomForestRegressor\n",
        "import seaborn as sns\n",
        "\n",
        "\n",
        "#convert 'Deal date' to dataframe\n",
        "df['DealDate'] = pd.to_datetime(df['DealDate'],dayfirst=True)\n",
        "\n",
        "\n",
        "#Data Visualization total sales value over time.\n",
        "daily_sales = df.groupby('Dealdate')['value'].sum().reset_index()\n",
        "\n",
        "plt.figure(figsize=(14,6))\n",
        "plt.plot(daily_sales['Dealdate'],daily_sales[;value],color='blue')\n",
        "plt.title('Total sales value over Time')\n",
        "plt.xlabel('Date')\n",
        "plt.ylabel('Value')\n",
        "plt.grid(True)\n",
        "plt.show()\n",
        "\n"
      ],
      "metadata": {
        "id": "oc57tR9MZAmN",
        "colab": {
          "base_uri": "https://localhost:8080/",
          "height": 106
        },
        "outputId": "e602cd55-1315-49e8-b6aa-dc65c13f4855"
      },
      "execution_count": 8,
      "outputs": [
        {
          "output_type": "error",
          "ename": "SyntaxError",
          "evalue": "invalid syntax (<ipython-input-8-f9ceeb975776>, line 26)",
          "traceback": [
            "\u001b[0;36m  File \u001b[0;32m\"<ipython-input-8-f9ceeb975776>\"\u001b[0;36m, line \u001b[0;32m26\u001b[0m\n\u001b[0;31m    plt.plot(daily_sales['Dealdate'],daily_sales[;value],color='blue')\u001b[0m\n\u001b[0m                                                 ^\u001b[0m\n\u001b[0;31mSyntaxError\u001b[0m\u001b[0;31m:\u001b[0m invalid syntax\n"
          ]
        }
      ]
    }
  ]
}