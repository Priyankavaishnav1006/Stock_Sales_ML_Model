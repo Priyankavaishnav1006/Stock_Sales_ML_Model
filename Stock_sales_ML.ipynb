{
  "nbformat": 4,
  "nbformat_minor": 0,
  "metadata": {
    "colab": {
      "provenance": [],
      "authorship_tag": "ABX9TyNl3MZmVVA8rUSLjjm/Fh9c",
      "include_colab_link": true
    },
    "kernelspec": {
      "name": "python3",
      "display_name": "Python 3"
    },
    "language_info": {
      "name": "python"
    }
  },
  "cells": [
    {
      "cell_type": "markdown",
      "metadata": {
        "id": "view-in-github",
        "colab_type": "text"
      },
      "source": [
        "<a href=\"https://colab.research.google.com/github/Priyankavaishnav1006/Stock_Sales_ML_Model/blob/main/Stock_sales_ML.ipynb\" target=\"_parent\"><img src=\"https://colab.research.google.com/assets/colab-badge.svg\" alt=\"Open In Colab\"/></a>"
      ]
    },
    {
      "cell_type": "code",
      "execution_count": null,
      "metadata": {
        "colab": {
          "base_uri": "https://localhost:8080/"
        },
        "id": "mZoTUh26euuu",
        "outputId": "155519c2-331b-476d-ec1e-ec7860d96d6f"
      },
      "outputs": [
        {
          "output_type": "stream",
          "name": "stdout",
          "text": [
            "Drive already mounted at /content/drive; to attempt to forcibly remount, call drive.mount(\"/content/drive\", force_remount=True).\n"
          ]
        }
      ],
      "source": [
        "from google.colab import drive\n",
        "drive.mount('/content/drive')"
      ]
    },
    {
      "cell_type": "code",
      "source": [],
      "metadata": {
        "id": "hpmAUhR6Y8eG"
      },
      "execution_count": null,
      "outputs": []
    },
    {
      "cell_type": "code",
      "source": [
        "import pandas as pd\n",
        "\n",
        "file_path = '/content/ML Data 2.csv'\n",
        "df = pd.read_csv(file_path)\n",
        "\n",
        "print(df)"
      ],
      "metadata": {
        "colab": {
          "base_uri": "https://localhost:8080/"
        },
        "id": "vldbWIEMf329",
        "outputId": "153c1b57-41f0-4fd7-ca62-e4be034d8198"
      },
      "execution_count": null,
      "outputs": [
        {
          "output_type": "stream",
          "name": "stdout",
          "text": [
            "          Rows No  Location ID    DealDate Currency Type  Type  Amount  \\\n",
            "0        28937647          140  04/01/2022      JMD    N     S   77000   \n",
            "1        28937648          140  04/01/2022      XCD    N     S    1000   \n",
            "2        28937649          140  04/01/2022      KRW    N     S  910000   \n",
            "3        28937650          140  04/01/2022      EUR    N     S     705   \n",
            "4        28937651          140  04/01/2022      TRY    N     S    3215   \n",
            "...           ...          ...         ...      ...  ...   ...     ...   \n",
            "8234155  46696722           38  30/04/2025      EUR    N     S     335   \n",
            "8234156  46696723           38  30/04/2025      EUR    N     B     200   \n",
            "8234157  46696724           38  30/04/2025      EUR    N     S     100   \n",
            "8234158  46696725           38  30/04/2025      JPY    N     S   27000   \n",
            "8234159  46696726          272  29/04/2025      EUR    N     S     340   \n",
            "\n",
            "          Value  OriginationID  OrderTypeID  \n",
            "0        401.68              2            2  \n",
            "1        293.17              2            2  \n",
            "2        603.05              2            2  \n",
            "3        601.54              2            2  \n",
            "4        200.15              2            2  \n",
            "...         ...            ...          ...  \n",
            "8234155  301.77              3            1  \n",
            "8234156  144.46              3            1  \n",
            "8234157   90.08              3            1  \n",
            "8234158  155.04              3            1  \n",
            "8234159  300.99             11            3  \n",
            "\n",
            "[8234160 rows x 10 columns]\n"
          ]
        }
      ]
    },
    {
      "cell_type": "code",
      "source": [
        "import pandas as pd\n",
        "import numpy as np\n",
        "import matplotlib.pyplot as plt\n",
        "\n"
      ],
      "metadata": {
        "id": "oc57tR9MZAmN"
      },
      "execution_count": null,
      "outputs": []
    }
  ]
}